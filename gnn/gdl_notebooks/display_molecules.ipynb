{
 "cells": [
  {
   "cell_type": "code",
   "execution_count": 4,
   "metadata": {},
   "outputs": [],
   "source": [
    "import rdkit.Chem as Chem\n",
    "from gnn.gdl_notebooks.utils import get_qm9_data\n",
    "from gnn.gdl_notebooks.practical_3_part_0a_molecule_pred_pyg import MolTo3DView, smi2conf, to_rdkit"
   ]
  },
  {
   "cell_type": "code",
   "execution_count": 2,
   "metadata": {
    "collapsed": false,
    "jupyter": {
     "outputs_hidden": false
    },
    "pycharm": {
     "name": "#%%\n"
    }
   },
   "outputs": [
    {
     "name": "stdout",
     "output_type": "stream",
     "text": [
      "Total number of samples: 130831.\n",
      "Created dataset splits with 1000 training, 1000 validation, 1000 test samples.\n"
     ]
    },
    {
     "name": "stderr",
     "output_type": "stream",
     "text": [
      "/Users/shilem2/Library/CloudStorage/OneDrive-MedtronicPLC/projects/envs/gnn/lib/python3.9/site-packages/torch_geometric/data/in_memory_dataset.py:157: UserWarning: It is not recommended to directly access the internal storage format `data` of an 'InMemoryDataset'. If you are absolutely certain what you are doing, access the internal storage via `InMemoryDataset._data` instead to suppress this warning. Alternatively, you can access stacked individual attributes of every graph via `dataset.{attr_name}`.\n",
      "  warnings.warn(msg)\n"
     ]
    }
   ],
   "source": [
    "train_dataset, val_dataset, test_dataset, std = get_qm9_data()"
   ]
  },
  {
   "cell_type": "code",
   "execution_count": null,
   "metadata": {
    "collapsed": false,
    "jupyter": {
     "outputs_hidden": false
    },
    "pycharm": {
     "name": "#%%\n"
    }
   },
   "outputs": [],
   "source": []
  },
  {
   "cell_type": "code",
   "execution_count": 3,
   "metadata": {
    "collapsed": false,
    "jupyter": {
     "outputs_hidden": false
    },
    "pycharm": {
     "name": "#%%\n"
    }
   },
   "outputs": [
    {
     "data": {
      "application/3dmoljs_load.v0": "<div id=\"3dmolviewer_17072564965427148\"  style=\"position: relative; width: 300px; height: 300px;\">\n        <p id=\"3dmolwarning_17072564965427148\" style=\"background-color:#ffcccc;color:black\">You appear to be running in JupyterLab (or JavaScript failed to load for some other reason).  You need to install the 3dmol extension: <br>\n        <tt>jupyter labextension install jupyterlab_3dmol</tt></p>\n        </div>\n<script>\n\nvar loadScriptAsync = function(uri){\n  return new Promise((resolve, reject) => {\n    //this is to ignore the existence of requirejs amd\n    var savedexports, savedmodule;\n    if (typeof exports !== 'undefined') savedexports = exports;\n    else exports = {}\n    if (typeof module !== 'undefined') savedmodule = module;\n    else module = {}\n\n    var tag = document.createElement('script');\n    tag.src = uri;\n    tag.async = true;\n    tag.onload = () => {\n        exports = savedexports;\n        module = savedmodule;\n        resolve();\n    };\n  var firstScriptTag = document.getElementsByTagName('script')[0];\n  firstScriptTag.parentNode.insertBefore(tag, firstScriptTag);\n});\n};\n\nif(typeof $3Dmolpromise === 'undefined') {\n$3Dmolpromise = null;\n  $3Dmolpromise = loadScriptAsync('https://cdnjs.cloudflare.com/ajax/libs/3Dmol/2.0.4/3Dmol-min.js');\n}\n\nvar viewer_17072564965427148 = null;\nvar warn = document.getElementById(\"3dmolwarning_17072564965427148\");\nif(warn) {\n    warn.parentNode.removeChild(warn);\n}\n$3Dmolpromise.then(function() {\nviewer_17072564965427148 = $3Dmol.createViewer(document.getElementById(\"3dmolviewer_17072564965427148\"),{backgroundColor:\"white\"});\nviewer_17072564965427148.zoomTo();\n\tviewer_17072564965427148.addModel(\"\\n     RDKit          3D\\n\\n 12 11  0  0  0  0  0  0  0  0999 V2000\\n    0.3697    1.0628   -0.4197 C   0  0  0  0  0  0  0  0  0  0  0  0\\n   -0.0554   -0.1836    0.3164 C   0  0  0  0  0  0  0  0  0  0  0  0\\n   -1.2854   -0.0965    1.1814 C   0  0  0  0  0  0  0  0  0  0  0  0\\n    0.5733   -1.3190    0.2479 N   0  0  0  0  0  0  0  0  0  0  0  0\\n    1.6882   -1.2323   -0.5928 O   0  0  0  0  0  0  0  0  0  0  0  0\\n   -0.3161    1.8861   -0.2027 H   0  0  0  0  0  0  0  0  0  0  0  0\\n    0.3621    0.8749   -1.4968 H   0  0  0  0  0  0  0  0  0  0  0  0\\n    1.3757    1.3520   -0.1036 H   0  0  0  0  0  0  0  0  0  0  0  0\\n   -1.1312    0.6624    1.9532 H   0  0  0  0  0  0  0  0  0  0  0  0\\n   -1.4917   -1.0574    1.6605 H   0  0  0  0  0  0  0  0  0  0  0  0\\n   -2.1420    0.1865    0.5636 H   0  0  0  0  0  0  0  0  0  0  0  0\\n    2.0528   -2.1359   -0.5487 H   0  0  0  0  0  0  0  0  0  0  0  0\\n  1  2  1  0\\n  2  3  1  0\\n  2  4  2  3\\n  4  5  1  0\\n  1  6  1  0\\n  1  7  1  0\\n  1  8  1  0\\n  3  9  1  0\\n  3 10  1  0\\n  3 11  1  0\\n  5 12  1  0\\nM  END\\n\",\"mol\");\n\tviewer_17072564965427148.setStyle({\"stick\": {}});\n\tviewer_17072564965427148.zoomTo();\nviewer_17072564965427148.render();\n});\n</script>",
      "text/html": [
       "<div id=\"3dmolviewer_17072564965427148\"  style=\"position: relative; width: 300px; height: 300px;\">\n",
       "        <p id=\"3dmolwarning_17072564965427148\" style=\"background-color:#ffcccc;color:black\">You appear to be running in JupyterLab (or JavaScript failed to load for some other reason).  You need to install the 3dmol extension: <br>\n",
       "        <tt>jupyter labextension install jupyterlab_3dmol</tt></p>\n",
       "        </div>\n",
       "<script>\n",
       "\n",
       "var loadScriptAsync = function(uri){\n",
       "  return new Promise((resolve, reject) => {\n",
       "    //this is to ignore the existence of requirejs amd\n",
       "    var savedexports, savedmodule;\n",
       "    if (typeof exports !== 'undefined') savedexports = exports;\n",
       "    else exports = {}\n",
       "    if (typeof module !== 'undefined') savedmodule = module;\n",
       "    else module = {}\n",
       "\n",
       "    var tag = document.createElement('script');\n",
       "    tag.src = uri;\n",
       "    tag.async = true;\n",
       "    tag.onload = () => {\n",
       "        exports = savedexports;\n",
       "        module = savedmodule;\n",
       "        resolve();\n",
       "    };\n",
       "  var firstScriptTag = document.getElementsByTagName('script')[0];\n",
       "  firstScriptTag.parentNode.insertBefore(tag, firstScriptTag);\n",
       "});\n",
       "};\n",
       "\n",
       "if(typeof $3Dmolpromise === 'undefined') {\n",
       "$3Dmolpromise = null;\n",
       "  $3Dmolpromise = loadScriptAsync('https://cdnjs.cloudflare.com/ajax/libs/3Dmol/2.0.4/3Dmol-min.js');\n",
       "}\n",
       "\n",
       "var viewer_17072564965427148 = null;\n",
       "var warn = document.getElementById(\"3dmolwarning_17072564965427148\");\n",
       "if(warn) {\n",
       "    warn.parentNode.removeChild(warn);\n",
       "}\n",
       "$3Dmolpromise.then(function() {\n",
       "viewer_17072564965427148 = $3Dmol.createViewer(document.getElementById(\"3dmolviewer_17072564965427148\"),{backgroundColor:\"white\"});\n",
       "viewer_17072564965427148.zoomTo();\n",
       "\tviewer_17072564965427148.addModel(\"\\n     RDKit          3D\\n\\n 12 11  0  0  0  0  0  0  0  0999 V2000\\n    0.3697    1.0628   -0.4197 C   0  0  0  0  0  0  0  0  0  0  0  0\\n   -0.0554   -0.1836    0.3164 C   0  0  0  0  0  0  0  0  0  0  0  0\\n   -1.2854   -0.0965    1.1814 C   0  0  0  0  0  0  0  0  0  0  0  0\\n    0.5733   -1.3190    0.2479 N   0  0  0  0  0  0  0  0  0  0  0  0\\n    1.6882   -1.2323   -0.5928 O   0  0  0  0  0  0  0  0  0  0  0  0\\n   -0.3161    1.8861   -0.2027 H   0  0  0  0  0  0  0  0  0  0  0  0\\n    0.3621    0.8749   -1.4968 H   0  0  0  0  0  0  0  0  0  0  0  0\\n    1.3757    1.3520   -0.1036 H   0  0  0  0  0  0  0  0  0  0  0  0\\n   -1.1312    0.6624    1.9532 H   0  0  0  0  0  0  0  0  0  0  0  0\\n   -1.4917   -1.0574    1.6605 H   0  0  0  0  0  0  0  0  0  0  0  0\\n   -2.1420    0.1865    0.5636 H   0  0  0  0  0  0  0  0  0  0  0  0\\n    2.0528   -2.1359   -0.5487 H   0  0  0  0  0  0  0  0  0  0  0  0\\n  1  2  1  0\\n  2  3  1  0\\n  2  4  2  3\\n  4  5  1  0\\n  1  6  1  0\\n  1  7  1  0\\n  1  8  1  0\\n  3  9  1  0\\n  3 10  1  0\\n  3 11  1  0\\n  5 12  1  0\\nM  END\\n\",\"mol\");\n",
       "\tviewer_17072564965427148.setStyle({\"stick\": {}});\n",
       "\tviewer_17072564965427148.zoomTo();\n",
       "viewer_17072564965427148.render();\n",
       "});\n",
       "</script>"
      ]
     },
     "metadata": {},
     "output_type": "display_data"
    },
    {
     "data": {
      "text/plain": [
       "<py3Dmol.view at 0x152393c10>"
      ]
     },
     "execution_count": 3,
     "metadata": {},
     "output_type": "execute_result"
    }
   ],
   "source": [
    "MolTo3DView(smi2conf(Chem.MolToSmiles(to_rdkit(train_dataset[48]))))"
   ]
  },
  {
   "cell_type": "code",
   "execution_count": null,
   "metadata": {
    "collapsed": false,
    "jupyter": {
     "outputs_hidden": false
    },
    "pycharm": {
     "name": "#%%\n"
    }
   },
   "outputs": [],
   "source": [
    "x=2"
   ]
  },
  {
   "cell_type": "code",
   "execution_count": null,
   "metadata": {
    "collapsed": false,
    "jupyter": {
     "outputs_hidden": false
    },
    "pycharm": {
     "name": "#%%\n"
    }
   },
   "outputs": [],
   "source": []
  }
 ],
 "metadata": {
  "kernelspec": {
   "display_name": "Python 3 (ipykernel)",
   "language": "python",
   "name": "python3"
  },
  "language_info": {
   "codemirror_mode": {
    "name": "ipython",
    "version": 3
   },
   "file_extension": ".py",
   "mimetype": "text/x-python",
   "name": "python",
   "nbconvert_exporter": "python",
   "pygments_lexer": "ipython3",
   "version": "3.9.9"
  }
 },
 "nbformat": 4,
 "nbformat_minor": 4
}